{
 "cells": [
  {
   "cell_type": "markdown",
   "metadata": {},
   "source": [
    "# Movie Review Analysis\n",
    "\n",
    "__We analyze movie reviews to display average ratings for each viewer and each movie.  First, we read in the csv file with the relevant data.__"
   ]
  },
  {
   "cell_type": "code",
   "execution_count": 14,
   "metadata": {},
   "outputs": [
    {
     "data": {
      "text/html": [
       "<div>\n",
       "<style>\n",
       "    .dataframe thead tr:only-child th {\n",
       "        text-align: right;\n",
       "    }\n",
       "\n",
       "    .dataframe thead th {\n",
       "        text-align: left;\n",
       "    }\n",
       "\n",
       "    .dataframe tbody tr th {\n",
       "        vertical-align: top;\n",
       "    }\n",
       "</style>\n",
       "<table border=\"1\" class=\"dataframe\">\n",
       "  <thead>\n",
       "    <tr style=\"text-align: right;\">\n",
       "      <th></th>\n",
       "      <th>Peter Rabbit</th>\n",
       "      <th>Black Panther</th>\n",
       "      <th>The Post</th>\n",
       "      <th>Molly's Game</th>\n",
       "      <th>A Wrinkle In Time</th>\n",
       "      <th>Game Night</th>\n",
       "    </tr>\n",
       "  </thead>\n",
       "  <tbody>\n",
       "    <tr>\n",
       "      <th>Matthew</th>\n",
       "      <td>NaN</td>\n",
       "      <td>5</td>\n",
       "      <td>3.0</td>\n",
       "      <td>4.0</td>\n",
       "      <td>NaN</td>\n",
       "      <td>4.0</td>\n",
       "    </tr>\n",
       "    <tr>\n",
       "      <th>John</th>\n",
       "      <td>NaN</td>\n",
       "      <td>4</td>\n",
       "      <td>NaN</td>\n",
       "      <td>NaN</td>\n",
       "      <td>NaN</td>\n",
       "      <td>2.0</td>\n",
       "    </tr>\n",
       "    <tr>\n",
       "      <th>Diana</th>\n",
       "      <td>4.0</td>\n",
       "      <td>3</td>\n",
       "      <td>5.0</td>\n",
       "      <td>NaN</td>\n",
       "      <td>5.0</td>\n",
       "      <td>3.0</td>\n",
       "    </tr>\n",
       "    <tr>\n",
       "      <th>Cynthia</th>\n",
       "      <td>3.0</td>\n",
       "      <td>5</td>\n",
       "      <td>NaN</td>\n",
       "      <td>4.0</td>\n",
       "      <td>NaN</td>\n",
       "      <td>NaN</td>\n",
       "    </tr>\n",
       "    <tr>\n",
       "      <th>Christina</th>\n",
       "      <td>4.0</td>\n",
       "      <td>5</td>\n",
       "      <td>NaN</td>\n",
       "      <td>3.0</td>\n",
       "      <td>4.0</td>\n",
       "      <td>NaN</td>\n",
       "    </tr>\n",
       "  </tbody>\n",
       "</table>\n",
       "</div>"
      ],
      "text/plain": [
       "           Peter Rabbit  Black Panther  The Post  Molly's Game  \\\n",
       "Matthew             NaN              5       3.0           4.0   \n",
       "John                NaN              4       NaN           NaN   \n",
       "Diana               4.0              3       5.0           NaN   \n",
       "Cynthia             3.0              5       NaN           4.0   \n",
       "Christina           4.0              5       NaN           3.0   \n",
       "\n",
       "           A Wrinkle In Time  Game Night  \n",
       "Matthew                  NaN         4.0  \n",
       "John                     NaN         2.0  \n",
       "Diana                    5.0         3.0  \n",
       "Cynthia                  NaN         NaN  \n",
       "Christina                4.0         NaN  "
      ]
     },
     "execution_count": 14,
     "metadata": {},
     "output_type": "execute_result"
    }
   ],
   "source": [
    "import pandas as pd\n",
    "import numpy as np\n",
    "import matplotlib.pyplot as plt\n",
    "\n",
    "reviews = pd.read_csv('reviews.csv', index_col = 0)\n",
    "reviews"
   ]
  },
  {
   "cell_type": "markdown",
   "metadata": {},
   "source": [
    "__We see that some values are missing, as not all viewers have seen all movies.  However, we opt to leave the NaN values to prevent skewing the mean calculations with 0 values.  (Pandas will automatically ignore NaN values when calculating the mean.)__\n",
    "\n",
    "__Next, display the average ratings for each viewer and each movie.__"
   ]
  },
  {
   "cell_type": "code",
   "execution_count": 15,
   "metadata": {},
   "outputs": [
    {
     "data": {
      "text/plain": [
       "Matthew      4.0\n",
       "John         3.0\n",
       "Diana        4.0\n",
       "Cynthia      4.0\n",
       "Christina    4.0\n",
       "dtype: float64"
      ]
     },
     "execution_count": 15,
     "metadata": {},
     "output_type": "execute_result"
    }
   ],
   "source": [
    "reviews.mean(axis = 1)"
   ]
  },
  {
   "cell_type": "code",
   "execution_count": 16,
   "metadata": {},
   "outputs": [
    {
     "data": {
      "text/plain": [
       "Peter Rabbit         3.666667\n",
       "Black Panther        4.400000\n",
       "The Post             4.000000\n",
       "Molly's Game         3.666667\n",
       "A Wrinkle In Time    4.500000\n",
       "Game Night           3.000000\n",
       "dtype: float64"
      ]
     },
     "execution_count": 16,
     "metadata": {},
     "output_type": "execute_result"
    }
   ],
   "source": [
    "reviews.mean(axis = 0)"
   ]
  },
  {
   "cell_type": "markdown",
   "metadata": {},
   "source": [
    "__From this, we see that \"A Wrinkle In Time\" has the highest average rating of 4.5, and John is the harshest critic with an average rating of 3.0.__\n",
    "\n",
    "\n",
    "__Next, we normalize the data using the following equation:__\n",
    "\n",
    "\n",
    "![normalization formula](norm.png \"Formula\")"
   ]
  },
  {
   "cell_type": "code",
   "execution_count": 17,
   "metadata": {},
   "outputs": [
    {
     "data": {
      "text/html": [
       "<div>\n",
       "<style>\n",
       "    .dataframe thead tr:only-child th {\n",
       "        text-align: right;\n",
       "    }\n",
       "\n",
       "    .dataframe thead th {\n",
       "        text-align: left;\n",
       "    }\n",
       "\n",
       "    .dataframe tbody tr th {\n",
       "        vertical-align: top;\n",
       "    }\n",
       "</style>\n",
       "<table border=\"1\" class=\"dataframe\">\n",
       "  <thead>\n",
       "    <tr style=\"text-align: right;\">\n",
       "      <th></th>\n",
       "      <th>Peter Rabbit</th>\n",
       "      <th>Black Panther</th>\n",
       "      <th>The Post</th>\n",
       "      <th>Molly's Game</th>\n",
       "      <th>A Wrinkle In Time</th>\n",
       "      <th>Game Night</th>\n",
       "    </tr>\n",
       "  </thead>\n",
       "  <tbody>\n",
       "    <tr>\n",
       "      <th>Matthew</th>\n",
       "      <td>NaN</td>\n",
       "      <td>1.0</td>\n",
       "      <td>0.0</td>\n",
       "      <td>1.0</td>\n",
       "      <td>NaN</td>\n",
       "      <td>1.0</td>\n",
       "    </tr>\n",
       "    <tr>\n",
       "      <th>John</th>\n",
       "      <td>NaN</td>\n",
       "      <td>0.5</td>\n",
       "      <td>NaN</td>\n",
       "      <td>NaN</td>\n",
       "      <td>NaN</td>\n",
       "      <td>0.0</td>\n",
       "    </tr>\n",
       "    <tr>\n",
       "      <th>Diana</th>\n",
       "      <td>1.0</td>\n",
       "      <td>0.0</td>\n",
       "      <td>1.0</td>\n",
       "      <td>NaN</td>\n",
       "      <td>1.0</td>\n",
       "      <td>0.5</td>\n",
       "    </tr>\n",
       "    <tr>\n",
       "      <th>Cynthia</th>\n",
       "      <td>0.0</td>\n",
       "      <td>1.0</td>\n",
       "      <td>NaN</td>\n",
       "      <td>1.0</td>\n",
       "      <td>NaN</td>\n",
       "      <td>NaN</td>\n",
       "    </tr>\n",
       "    <tr>\n",
       "      <th>Christina</th>\n",
       "      <td>1.0</td>\n",
       "      <td>1.0</td>\n",
       "      <td>NaN</td>\n",
       "      <td>0.0</td>\n",
       "      <td>0.0</td>\n",
       "      <td>NaN</td>\n",
       "    </tr>\n",
       "  </tbody>\n",
       "</table>\n",
       "</div>"
      ],
      "text/plain": [
       "           Peter Rabbit  Black Panther  The Post  Molly's Game  \\\n",
       "Matthew             NaN            1.0       0.0           1.0   \n",
       "John                NaN            0.5       NaN           NaN   \n",
       "Diana               1.0            0.0       1.0           NaN   \n",
       "Cynthia             0.0            1.0       NaN           1.0   \n",
       "Christina           1.0            1.0       NaN           0.0   \n",
       "\n",
       "           A Wrinkle In Time  Game Night  \n",
       "Matthew                  NaN         1.0  \n",
       "John                     NaN         0.0  \n",
       "Diana                    1.0         0.5  \n",
       "Cynthia                  NaN         NaN  \n",
       "Christina                0.0         NaN  "
      ]
     },
     "execution_count": 17,
     "metadata": {},
     "output_type": "execute_result"
    }
   ],
   "source": [
    "normalized = ((reviews - reviews.min()) / (reviews.max() - reviews.min()))\n",
    "normalized"
   ]
  },
  {
   "cell_type": "markdown",
   "metadata": {},
   "source": [
    "__Next, we display the normalized average ratings for each viewer and each movie.__"
   ]
  },
  {
   "cell_type": "code",
   "execution_count": 18,
   "metadata": {},
   "outputs": [
    {
     "data": {
      "text/plain": [
       "Matthew      0.750000\n",
       "John         0.250000\n",
       "Diana        0.700000\n",
       "Cynthia      0.666667\n",
       "Christina    0.500000\n",
       "dtype: float64"
      ]
     },
     "execution_count": 18,
     "metadata": {},
     "output_type": "execute_result"
    }
   ],
   "source": [
    "normalized.mean(axis = 1)"
   ]
  },
  {
   "cell_type": "code",
   "execution_count": 19,
   "metadata": {},
   "outputs": [
    {
     "data": {
      "text/plain": [
       "Peter Rabbit         0.666667\n",
       "Black Panther        0.700000\n",
       "The Post             0.500000\n",
       "Molly's Game         0.666667\n",
       "A Wrinkle In Time    0.500000\n",
       "Game Night           0.500000\n",
       "dtype: float64"
      ]
     },
     "execution_count": 19,
     "metadata": {},
     "output_type": "execute_result"
    }
   ],
   "source": [
    "normalized.mean(axis = 0)"
   ]
  },
  {
   "cell_type": "markdown",
   "metadata": {},
   "source": [
    "__In the normalized data, we see that John is still clearly the harshest critic, but there are now more variations between the other viewers' average ratings.__\n",
    "\n",
    "__Also, now it appears \"Black Panther\" is the highest rated movie.  The difference seem to arise because all viewers saw \"Black Panther\" and it received three 5-star ratings, whereas only two viewers saw \"A Wrinkle in Time\" and it received only one 5-star rating.  Normalization seems to give a more accurate picture when working with datasets that have missing values.__"
   ]
  }
 ],
 "metadata": {
  "kernelspec": {
   "display_name": "Python 2",
   "language": "python",
   "name": "python2"
  },
  "language_info": {
   "codemirror_mode": {
    "name": "ipython",
    "version": 2
   },
   "file_extension": ".py",
   "mimetype": "text/x-python",
   "name": "python",
   "nbconvert_exporter": "python",
   "pygments_lexer": "ipython2",
   "version": "2.7.13"
  }
 },
 "nbformat": 4,
 "nbformat_minor": 2
}
